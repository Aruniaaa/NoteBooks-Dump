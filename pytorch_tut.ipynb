{
  "nbformat": 4,
  "nbformat_minor": 0,
  "metadata": {
    "colab": {
      "provenance": [],
      "gpuType": "T4",
      "authorship_tag": "ABX9TyPoZDqwiyKVfjeUghbGK6kL",
      "include_colab_link": true
    },
    "kernelspec": {
      "name": "python3",
      "display_name": "Python 3"
    },
    "language_info": {
      "name": "python"
    }
  },
  "cells": [
    {
      "cell_type": "markdown",
      "metadata": {
        "id": "view-in-github",
        "colab_type": "text"
      },
      "source": [
        "<a href=\"https://colab.research.google.com/github/Aruniaaa/NoteBooks-Dump/blob/main/pytorch_tut.ipynb\" target=\"_parent\"><img src=\"https://colab.research.google.com/assets/colab-badge.svg\" alt=\"Open In Colab\"/></a>"
      ]
    },
    {
      "cell_type": "markdown",
      "source": [
        "# Fundamentals\n"
      ],
      "metadata": {
        "id": "XDXFTKwh5wib"
      }
    },
    {
      "cell_type": "code",
      "source": [
        "# Making the necessary imports\n",
        "\n",
        "import pandas as pd\n",
        "import numpy as np\n",
        "import matplotlib.pyplot as plt\n",
        "import torch\n",
        "print(torch.__version__)"
      ],
      "metadata": {
        "colab": {
          "base_uri": "https://localhost:8080/"
        },
        "id": "zKjbCunS5zjK",
        "outputId": "49d87ed8-6644-423a-c243-1a14410e57c1"
      },
      "execution_count": null,
      "outputs": [
        {
          "output_type": "stream",
          "name": "stdout",
          "text": [
            "2.8.0+cu126\n"
          ]
        }
      ]
    },
    {
      "cell_type": "markdown",
      "source": [
        "## Tensors"
      ],
      "metadata": {
        "id": "CjDeuIPI-olM"
      }
    },
    {
      "cell_type": "code",
      "source": [
        "scalar = torch.tensor(35)\n",
        "print(scalar.ndim) # number of dimensions in the tensor\n",
        "print(scalar.shape) # shape of the tensor (e.g. -> 3x2, 5x2, 5x6, 9x100, etc.)\n",
        "print(scalar.item()) # integer value inside that tensor"
      ],
      "metadata": {
        "colab": {
          "base_uri": "https://localhost:8080/"
        },
        "id": "uOPjFwDr50fi",
        "outputId": "3be13958-15cb-405e-b0e8-8613c115c5e2"
      },
      "execution_count": null,
      "outputs": [
        {
          "output_type": "stream",
          "name": "stdout",
          "text": [
            "0\n",
            "torch.Size([])\n",
            "35\n"
          ]
        }
      ]
    },
    {
      "cell_type": "markdown",
      "source": [
        "### Tensor Multiplication\n",
        "\n",
        "The ith element of tensor_1 gets multiplied by the ith element of tensor_2"
      ],
      "metadata": {
        "id": "mnb3wjh3DxPu"
      }
    },
    {
      "cell_type": "code",
      "source": [
        "tensor_1 = torch.tensor([\n",
        "    [\n",
        "      [2, 3, 4],\n",
        "      [5, 6, 7]\n",
        "    ],\n",
        "    [\n",
        "        [8, 9, 10],\n",
        "        [11, 12, 13]\n",
        "    ]\n",
        "])\n",
        "\n",
        "tensor_2 = torch.tensor([\n",
        "    [\n",
        "      [2, 2, 2],\n",
        "      [2, 2, 2]\n",
        "    ],\n",
        "    [\n",
        "        [2, 2, 12],\n",
        "        [12, 22, 12]\n",
        "    ]\n",
        "])\n",
        "\n",
        "tensor_1 * tensor_2"
      ],
      "metadata": {
        "colab": {
          "base_uri": "https://localhost:8080/"
        },
        "id": "90OlNSLU-x60",
        "outputId": "25f2703d-a205-4863-fc55-5922b24fa6fd"
      },
      "execution_count": null,
      "outputs": [
        {
          "output_type": "execute_result",
          "data": {
            "text/plain": [
              "tensor([[[  4,   6,   8],\n",
              "         [ 10,  12,  14]],\n",
              "\n",
              "        [[ 16,  18, 120],\n",
              "         [132, 264, 156]]])"
            ]
          },
          "metadata": {},
          "execution_count": 3
        }
      ]
    },
    {
      "cell_type": "code",
      "source": [
        "range_tensor = torch.arange(1, 11) # returns a tensor with numbers 0-10\n"
      ],
      "metadata": {
        "id": "QThf96zRE5DF"
      },
      "execution_count": null,
      "outputs": []
    },
    {
      "cell_type": "code",
      "source": [
        "tensor = torch.tensor([4, 5, 6], dtype=torch.int)\n",
        "torch.matmul(tensor, tensor) # outputs tensor(77, dtype=torch.int32)"
      ],
      "metadata": {
        "id": "vGYL_9bSFDXM",
        "colab": {
          "base_uri": "https://localhost:8080/"
        },
        "outputId": "aa292bce-3573-461c-c9f2-9d1ea7d947f7"
      },
      "execution_count": null,
      "outputs": [
        {
          "output_type": "execute_result",
          "data": {
            "text/plain": [
              "tensor(77, dtype=torch.int32)"
            ]
          },
          "metadata": {},
          "execution_count": 5
        }
      ]
    },
    {
      "cell_type": "code",
      "source": [
        "tensor_2d = torch.tensor([[2, 3, 4], [69, 67, 12]], dtype=torch.float)\n",
        "tensor_3d = torch.tensor([[23, 45], [45, 67], [67, 67]], dtype=torch.float)\n",
        "torch.matmul(tensor_2d, tensor_3d)"
      ],
      "metadata": {
        "colab": {
          "base_uri": "https://localhost:8080/"
        },
        "id": "fZBb5JJTsn5X",
        "outputId": "0e3307fc-4eca-4f39-cc73-d431c822f734"
      },
      "execution_count": null,
      "outputs": [
        {
          "output_type": "execute_result",
          "data": {
            "text/plain": [
              "tensor([[ 449.,  559.],\n",
              "        [5406., 8398.]])"
            ]
          },
          "metadata": {},
          "execution_count": 6
        }
      ]
    },
    {
      "cell_type": "code",
      "source": [
        "print(tensor_2d.mean())\n",
        "print(tensor_2d.sum())\n",
        "print(tensor_2d.max())\n",
        "print(tensor_2d.min())"
      ],
      "metadata": {
        "colab": {
          "base_uri": "https://localhost:8080/"
        },
        "id": "3-M7ywHGtPIb",
        "outputId": "c835a0b6-4e5f-43d5-8c76-207bb9aa8f12"
      },
      "execution_count": null,
      "outputs": [
        {
          "output_type": "stream",
          "name": "stdout",
          "text": [
            "tensor(26.1667)\n",
            "tensor(157.)\n",
            "tensor(69.)\n",
            "tensor(2.)\n"
          ]
        }
      ]
    },
    {
      "cell_type": "code",
      "source": [
        "random_1 = torch.rand(3, 4)\n",
        "random_2 = torch.rand(4, 3)\n",
        "random_2 = torch.transpose(random_2, 0, 1)\n",
        "\n",
        "torch.stack([random_1, random_2], axis=1)"
      ],
      "metadata": {
        "colab": {
          "base_uri": "https://localhost:8080/"
        },
        "id": "JBvci6-lxFlE",
        "outputId": "0ae2a9ec-2c8f-4464-a9ff-bf52ada5fb66"
      },
      "execution_count": null,
      "outputs": [
        {
          "output_type": "execute_result",
          "data": {
            "text/plain": [
              "tensor([[[0.0848, 0.4847, 0.1010, 0.8927],\n",
              "         [0.0372, 0.8000, 0.7879, 0.4603]],\n",
              "\n",
              "        [[0.4273, 0.4653, 0.5831, 0.4094],\n",
              "         [0.4953, 0.8064, 0.4011, 0.0959]],\n",
              "\n",
              "        [[0.3828, 0.6981, 0.5580, 0.6777],\n",
              "         [0.3713, 0.7455, 0.3968, 0.5394]]])"
            ]
          },
          "metadata": {},
          "execution_count": 8
        }
      ]
    },
    {
      "cell_type": "code",
      "source": [
        "import torch\n",
        "import numpy as np\n",
        "\n",
        "arr = np.arange(1, 10)\n",
        "tensor = torch.arange(1, 10)\n",
        "numpy_arr = tensor.numpy()\n",
        "tensor_from_numpy = torch.from_numpy(arr)\n",
        "numpy_arr, tensor_from_numpy"
      ],
      "metadata": {
        "colab": {
          "base_uri": "https://localhost:8080/"
        },
        "id": "ch3xR_-H6ZLm",
        "outputId": "abe90f9f-8a94-4d04-8cd7-5e8087966e48"
      },
      "execution_count": null,
      "outputs": [
        {
          "output_type": "execute_result",
          "data": {
            "text/plain": [
              "(array([1, 2, 3, 4, 5, 6, 7, 8, 9]), tensor([1, 2, 3, 4, 5, 6, 7, 8, 9]))"
            ]
          },
          "metadata": {},
          "execution_count": 9
        }
      ]
    },
    {
      "cell_type": "code",
      "source": [
        "torch.manual_seed(42)\n",
        "random_ahh = torch.rand(6, 7)\n",
        "torch.manual_seed(42)\n",
        "random_ahh_2 = torch.rand(6, 7)\n",
        "\n",
        "print(random_ahh == random_ahh_2)"
      ],
      "metadata": {
        "colab": {
          "base_uri": "https://localhost:8080/"
        },
        "id": "g_Lb-Zof9MPZ",
        "outputId": "aadf182e-ee50-4c69-9338-7b9ec4a98c1c"
      },
      "execution_count": null,
      "outputs": [
        {
          "output_type": "stream",
          "name": "stdout",
          "text": [
            "tensor([[True, True, True, True, True, True, True],\n",
            "        [True, True, True, True, True, True, True],\n",
            "        [True, True, True, True, True, True, True],\n",
            "        [True, True, True, True, True, True, True],\n",
            "        [True, True, True, True, True, True, True],\n",
            "        [True, True, True, True, True, True, True]])\n"
          ]
        }
      ]
    },
    {
      "cell_type": "markdown",
      "source": [
        "## Pytorch Workflow!!"
      ],
      "metadata": {
        "id": "pQVhzfXh_Fue"
      }
    },
    {
      "cell_type": "code",
      "source": [
        "import torch\n",
        "from torch import nn\n",
        "import matplotlib.pyplot as plt\n",
        "import numpy as np\n",
        "import pandas as pd\n",
        "\n",
        "\n",
        "X_numpy = np.array([[i] for i in range(1000)], dtype=np.float32)\n",
        "Y_numpy = np.array([[2 * i + 1 + np.random.randn() * 5] for i in range(1000)], dtype=np.float32)\n",
        "\n",
        "X = torch.from_numpy(X_numpy)\n",
        "Y = torch.from_numpy(Y_numpy)\n",
        "\n",
        "training_size = 0.9\n",
        "X_train = X[: int((len(X) * training_size))]\n",
        "Y_train = Y[: int((len(Y) * training_size))]\n",
        "\n",
        "X_test = X[int((len(X) * training_size)) : ]\n",
        "Y_test = Y[int((len(Y) * training_size)) : ]\n",
        "\n",
        "\n",
        "\n",
        "plt.style.use('https://github.com/dhaitz/matplotlib-stylesheets/raw/master/pitayasmoothie-dark.mplstyle')\n",
        "plt.plot(X_train, Y_train)\n",
        "plt.xlabel(\"X axis\")\n",
        "plt.ylabel(\"Y axis\")\n",
        "plt.title(\"Manually generated linear regression data\")\n",
        "plt.show()"
      ],
      "metadata": {
        "id": "_Us6ogZv_WoY",
        "colab": {
          "base_uri": "https://localhost:8080/",
          "height": 465
        },
        "outputId": "341cc294-ce8f-47fc-a12e-b48b2fe43392"
      },
      "execution_count": null,
      "outputs": [
        {
          "output_type": "display_data",
          "data": {
            "text/plain": [
              "<Figure size 640x480 with 1 Axes>"
            ],
            "image/png": "[encoded data removed]"
          },
          "metadata": {}
        }
      ]
    },
    {
      "cell_type": "code",
      "source": [
        "X_mean, X_std = X_train.mean(), X_train.std()\n",
        "Y_mean, Y_std = Y_train.mean(), Y_train.std()\n",
        "\n",
        "X_train_scaled = (X_train - X_mean) / X_std\n",
        "Y_train_scaled = (Y_train - Y_mean) / Y_std\n",
        "\n",
        "X_test_scaled = (X_test - X_mean) / X_std\n",
        "Y_test_scaled = (Y_test - Y_mean) / Y_std"
      ],
      "metadata": {
        "id": "gl5nYG3cBbXC"
      },
      "execution_count": null,
      "outputs": []
    },
    {
      "cell_type": "code",
      "source": [
        "class LinearRegression(nn.Module):\n",
        "  def __init__(self):\n",
        "    super().__init__()\n",
        "    self.weights = nn.Parameter(torch.randn(1, requires_grad=True, dtype=torch.float))\n",
        "    self.bias = nn.Parameter(torch.randn(1, requires_grad=True, dtype=torch.float))\n",
        "\n",
        "  def forward(self, x: torch.Tensor) -> torch.Tensor:\n",
        "      return self.weights * x + self.bias\n",
        "\n",
        "torch.manual_seed(42)\n",
        "model = LinearRegression()\n",
        "model.state_dict()"
      ],
      "metadata": {
        "colab": {
          "base_uri": "https://localhost:8080/"
        },
        "id": "mK93qLogeNoI",
        "outputId": "babf4ab3-642f-42eb-8bd8-6e98d4fda956"
      },
      "execution_count": null,
      "outputs": [
        {
          "output_type": "execute_result",
          "data": {
            "text/plain": [
              "OrderedDict([('weights', tensor([0.3367])), ('bias', tensor([0.1288]))])"
            ]
          },
          "metadata": {},
          "execution_count": 13
        }
      ]
    },
    {
      "cell_type": "code",
      "source": [
        "loss_fn = nn.MSELoss()\n",
        "\n",
        "optimizer = torch.optim.SGD(params=model.parameters(), lr=0.01, momentum=0.9)\n"
      ],
      "metadata": {
        "id": "UcVcDuznmmJZ"
      },
      "execution_count": null,
      "outputs": []
    },
    {
      "cell_type": "code",
      "source": [
        "epochs = 1000\n",
        "\n",
        "\n",
        "for epoch in range(epochs):\n",
        "  model.train()\n",
        "\n",
        "  Y_pred  = model(X_train_scaled)\n",
        "\n",
        "  loss = loss_fn(Y_pred, Y_train_scaled)\n",
        "\n",
        "  optimizer.zero_grad()\n",
        "  loss.backward()\n",
        "  optimizer.step()\n",
        "\n",
        "  # model.eval()\n",
        "  # with torch.inference_mode():\n",
        "  #   test_pred = model(X_test_scaled)\n",
        "  #   loss_test = loss_fn(test_pred, Y_test_scaled)\n",
        "\n",
        "  # if epoch % 10 == 0:\n",
        "  #  print(f\"Train loss: {loss} | Test Loss: {loss_test}\")\n",
        "\n",
        "\n"
      ],
      "metadata": {
        "id": "RWPYhe3ZsXBl"
      },
      "execution_count": null,
      "outputs": []
    },
    {
      "cell_type": "code",
      "source": [
        "with torch.inference_mode():\n",
        "    Y_pred = model(X_test_scaled)\n",
        "\n",
        "plt.plot(X_test_scaled, Y_test_scaled, label=\"Actual\")\n",
        "plt.plot(X_test_scaled, Y_pred, label=\"Predicted\")\n",
        "plt.legend()\n",
        "plt.show()"
      ],
      "metadata": {
        "colab": {
          "base_uri": "https://localhost:8080/",
          "height": 425
        },
        "id": "Wzzg2dcqB8W0",
        "outputId": "28ce24fd-4c6c-471b-c3dd-aa3d4a2b3cbe"
      },
      "execution_count": null,
      "outputs": [
        {
          "output_type": "display_data",
          "data": {
            "text/plain": [
              "<Figure size 640x480 with 1 Axes>"
            ],
            "image/png": "[encoded data removed]"
          },
          "metadata": {}
        }
      ]
    }
  ]
}